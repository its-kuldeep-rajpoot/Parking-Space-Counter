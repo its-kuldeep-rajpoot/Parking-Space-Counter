{
 "cells": [
  {
   "cell_type": "code",
   "execution_count": 1,
   "id": "7fbcb2b3",
   "metadata": {},
   "outputs": [],
   "source": [
    "import cv2\n",
    "import pickle"
   ]
  },
  {
   "cell_type": "code",
   "execution_count": 2,
   "id": "126cc24a",
   "metadata": {},
   "outputs": [],
   "source": [
    "width, height = 108, 48\n",
    "\n",
    "try:\n",
    "    with open('CarParkPos', 'rb') as f:\n",
    "        posList = pickle.load(f)\n",
    "except:\n",
    "    posList = []\n",
    "\n",
    "def mouseClick(events, x, y, flags, params):\n",
    "    if events == cv2.EVENT_LBUTTONDOWN:\n",
    "        posList.append((x,y)) \n",
    "    if events == cv2.EVENT_RBUTTONDOWN:\n",
    "        for i,pos in enumerate(posList):\n",
    "            x1, y1 = pos\n",
    "            if x1<x<x1+width and y1<y<y1+height:\n",
    "                posList.pop(i)\n",
    "                \n",
    "    with open('CarParkPos', 'wb') as f:\n",
    "        pickle.dump(posList, f)\n",
    "\n",
    "while True:\n",
    "    img = cv2.imread('carParkImg.png')\n",
    "    for pos in posList:\n",
    "        cv2.rectangle(img, pos, (pos[0]+width,pos[1]+height), (0,255,0), 2)\n",
    "    \n",
    "    cv2.namedWindow('Image', cv2.WINDOW_KEEPRATIO)\n",
    "    cv2.resizeWindow(\"Image\", 1000, 600)\n",
    "    cv2.imshow('Image', img)\n",
    "    k = cv2.waitKey(0) & 0xFF\n",
    "    if k == ord('q'): # you can put any key here\n",
    "        cv2.destroyAllWindows()\n",
    "        break\n",
    "    \n",
    "    cv2.setMouseCallback(\"Image\", mouseClick)\n",
    "    \n",
    "    "
   ]
  },
  {
   "cell_type": "code",
   "execution_count": 3,
   "id": "ec8e85b7",
   "metadata": {},
   "outputs": [],
   "source": [
    "import numpy as np\n",
    "import cvzone"
   ]
  },
  {
   "cell_type": "code",
   "execution_count": 4,
   "id": "c9d251d3",
   "metadata": {},
   "outputs": [],
   "source": [
    "def toshow(name,img):\n",
    "    window_width = 1000\n",
    "    window_height= 600\n",
    "    #cv2.WINDOW_NORMAL makes the output window resizealbe\n",
    "    cv2.namedWindow(name, cv2.WINDOW_NORMAL)\n",
    "    #resize the window according to the screen resolution\n",
    "    cv2.resizeWindow(name, window_width, window_height)\n",
    "    cv2.imshow(name, img)"
   ]
  },
  {
   "cell_type": "code",
   "execution_count": 14,
   "id": "96ccfd19",
   "metadata": {},
   "outputs": [],
   "source": [
    "def CheckParkingSpace(imgPro):\n",
    "    freePark = 0\n",
    "    for pos in posList:\n",
    "        x,y=pos\n",
    "        imgCrop = imgPro[y:y+height, x:x+width]\n",
    "        #cv2.imshow(str(x*y), imgCrop)\n",
    "        \n",
    "        count = cv2.countNonZero(imgCrop)\n",
    "        \n",
    "        if count<500:\n",
    "            color=(0,255,0)\n",
    "            thickness=5\n",
    "            freePark+=1\n",
    "        else:\n",
    "            color=(0,0,255)\n",
    "            thickness=2\n",
    "            \n",
    "        cvzone.putTextRect(vid, str(count), (x+3,y+height-2), scale=1, thickness=2, offset=0, colorR=color)\n",
    "        cv2.rectangle(vid, pos, (pos[0]+width,pos[1]+height), color, thickness)  \n",
    "        cvzone.putTextRect(vid, f'Free: {freePark}/{len(posList)}', (100,50), scale=2, thickness=2, offset=10, colorR=(0,255,0),font=2)"
   ]
  },
  {
   "cell_type": "code",
   "execution_count": 15,
   "id": "22ac8026",
   "metadata": {},
   "outputs": [],
   "source": [
    "cap = cv2.VideoCapture(\"carPark.mp4\")\n",
    "\n",
    "with open('CarParkPos', 'rb') as f:\n",
    "        posList = pickle.load(f)\n",
    "\n",
    "width, height = 108, 48\n",
    "\n",
    "while True:\n",
    "    if cap.get(cv2.CAP_PROP_POS_FRAMES) == cap.get(cv2.CAP_PROP_FRAME_COUNT):\n",
    "        cap.set(cv2.CAP_PROP_POS_FRAMES, 0)\n",
    "   \n",
    "    success, vid = cap.read()\n",
    "#     for pos in posList:\n",
    "        \n",
    "    \n",
    "    imgGray = cv2.cvtColor(vid, cv2.COLOR_BGR2GRAY)\n",
    "    imgBlur = cv2.GaussianBlur(imgGray, (3,3), 1)\n",
    "    imgThres = cv2.adaptiveThreshold(imgBlur, 255, cv2.ADAPTIVE_THRESH_GAUSSIAN_C, cv2.THRESH_BINARY_INV, 25,18)\n",
    "    imgMedBlur = cv2.medianBlur(imgThres,5)\n",
    "    \n",
    "    #toshow(\"MedianBlur\", imgMedBlur)\n",
    "    \n",
    "    CheckParkingSpace(imgMedBlur)\n",
    "        \n",
    "    toshow(\"Video\", vid)\n",
    "    a = cv2.waitKey(10)\n",
    "    if a==ord('q'):\n",
    "        cv2.destroyAllWindows()\n",
    "        break"
   ]
  },
  {
   "cell_type": "code",
   "execution_count": null,
   "id": "a0f8f226",
   "metadata": {},
   "outputs": [],
   "source": []
  }
 ],
 "metadata": {
  "kernelspec": {
   "display_name": "Python 3 (ipykernel)",
   "language": "python",
   "name": "python3"
  },
  "language_info": {
   "codemirror_mode": {
    "name": "ipython",
    "version": 3
   },
   "file_extension": ".py",
   "mimetype": "text/x-python",
   "name": "python",
   "nbconvert_exporter": "python",
   "pygments_lexer": "ipython3",
   "version": "3.11.0"
  }
 },
 "nbformat": 4,
 "nbformat_minor": 5
}
